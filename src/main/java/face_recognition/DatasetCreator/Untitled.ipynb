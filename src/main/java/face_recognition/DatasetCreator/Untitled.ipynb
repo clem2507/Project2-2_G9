{
 "cells": [
  {
   "cell_type": "code",
   "execution_count": 2,
   "metadata": {},
   "outputs": [
    {
     "name": "stderr",
     "output_type": "stream",
     "text": [
      "usage: ipykernel_launcher.py [-h] -c CASCADE -o OUTPUT\n",
      "ipykernel_launcher.py: error: the following arguments are required: -c/--cascade, -o/--output\n"
     ]
    },
    {
     "ename": "SystemExit",
     "evalue": "2",
     "output_type": "error",
     "traceback": [
      "An exception has occurred, use %tb to see the full traceback.\n",
      "\u001b[1;31mSystemExit\u001b[0m\u001b[1;31m:\u001b[0m 2\n"
     ]
    }
   ],
   "source": [
    "from imutils.video import VideoStream\n",
    "import argparse\n",
    "import imutils\n",
    "import time\n",
    "import cv2\n",
    "import os\n",
    "# construct the argument parser and parse the arguments\n",
    "ap = argparse.ArgumentParser()\n",
    "ap.add_argument(\"-c\", \"--cascade\", required=True,help = \"path to where the face cascade resides\")\n",
    "ap.add_argument(\"-o\", \"--output\", required=True,help=\"path to output directory\")\n",
    "args = vars(ap.parse_args())\n",
    "# load OpenCV's Haar cascade for face detection from disk\n",
    "detector = cv2.CascadeClassifier(args[\"cascade\"])\n",
    "# initialize the video stream, allow the camera sensor to warm up,\n",
    "# and initialize the total number of example faces written to disk\n",
    "# thus far\n",
    "print(\"[INFO] starting video stream...\")\n",
    "vs = VideoStream(src=0).start()\n",
    "# vs = VideoStream(usePiCamera=True).start()\n",
    "time.sleep(2.0)\n",
    "total = 0\n",
    "# loop over the frames from the video stream\n",
    "while True:\n",
    "    # grab the frame from the threaded video stream, clone it, (just\n",
    "    # in case we want to write it to disk), and then resize the frame\n",
    "    # so we can apply face detection faster\n",
    "    frame = vs.read()\n",
    "    orig = frame.copy()\n",
    "    frame = imutils.resize(frame, width=400)\n",
    "    # detect faces in the grayscale frame\n",
    "    rects = detector.detectMultiScale(\n",
    "        cv2.cvtColor(frame, cv2.COLOR_BGR2GRAY), scaleFactor=1.1, \n",
    "        minNeighbors=5, minSize=(30, 30))\n",
    "    # loop over the face detections and draw them on the frame\n",
    "    for (x, y, w, h) in rects:\n",
    "        cv2.rectangle(frame, (x, y), (x + w, y + h), (0, 255, 0), 2)\n",
    "    cv2.imshow(\"Frame\", frame)\n",
    "    key = cv2.waitKey(1) & 0xFF\n",
    "\n",
    "    # if the `k` key was pressed, write the *original* frame to disk\n",
    "    # so we can later process it and use it for face recognition\n",
    "    if key == ord(\"k\"):\n",
    "        p = os.path.sep.join([args[\"output\"], \"{}.png\".format(\n",
    "            str(total).zfill(5))])\n",
    "        cv2.imwrite(p, orig)\n",
    "        total += 1\n",
    "    # if the `q` key was pressed, break from the loop\n",
    "    elif key == ord(\"q\"):\n",
    "        break\n",
    "print(\"[INFO] {} face images stored\".format(total))\n",
    "print(\"[INFO] cleaning up...\")\n",
    "cv2.destroyAllWindows()\n",
    "vs.stop()"
   ]
  },
  {
   "cell_type": "code",
   "execution_count": null,
   "metadata": {},
   "outputs": [],
   "source": []
  }
 ],
 "metadata": {
  "kernelspec": {
   "display_name": "Python 3",
   "language": "python",
   "name": "python3"
  },
  "language_info": {
   "codemirror_mode": {
    "name": "ipython",
    "version": 3
   },
   "file_extension": ".py",
   "mimetype": "text/x-python",
   "name": "python",
   "nbconvert_exporter": "python",
   "pygments_lexer": "ipython3",
   "version": "3.8.3"
  }
 },
 "nbformat": 4,
 "nbformat_minor": 4
}
